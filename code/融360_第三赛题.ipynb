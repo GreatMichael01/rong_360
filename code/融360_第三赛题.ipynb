{
 "cells": [
  {
   "cell_type": "code",
   "execution_count": 1,
   "metadata": {},
   "outputs": [],
   "source": [
    "import numpy as np\n",
    "import pandas as pd\n",
    "import time\n",
    "from datetime import datetime\n",
    "import xgboost as xgb"
   ]
  },
  {
   "cell_type": "markdown",
   "metadata": {},
   "source": [
    "#### **1、读取训练集数据**"
   ]
  },
  {
   "cell_type": "code",
   "execution_count": null,
   "metadata": {},
   "outputs": [],
   "source": [
    "orig_train1 = pd.read_tabel(\"../data/train/train_1.txt\")\n",
    "orig_train2 = pd.read_tabel(\"../data/train/train_2.txt\", names=list(orig_train1.columns.values))\n",
    "orig_train3 = pd.read_tabel(\"../data/train/train_3.txt\", names=list(orig_train1.columns.values))\n",
    "orig_train4 = pd.read_tabel(\"../data/train/train_4.txt\", names=list(orig_train1.columns.values))\n",
    "orig_train5 = pd.read_tabel(\"../data/train/train_5.txt\", names=list(orig_train1.columns.values))\n",
    "orig_train = pd.concat([orig_train1, orig_train2, orig_train3, orig_train4, orig_train5], axis=0)"
   ]
  },
  {
   "cell_type": "markdown",
   "metadata": {},
   "source": [
    "#### **2、读取测试集数据**"
   ]
  },
  {
   "cell_type": "code",
   "execution_count": null,
   "metadata": {},
   "outputs": [],
   "source": [
    "train_column_list = list(orig_train.columns.values)\n",
    "train_column_list.remove(\"label\")\n",
    "train_column_list.remove(\"tag\")\n",
    "orig_test = pd.read_table(\"../data/test/test.txt\")[train_column_list]"
   ]
  },
  {
   "cell_type": "markdown",
   "metadata": {},
   "source": [
    "#### **3、建立模型**"
   ]
  },
  {
   "cell_type": "markdown",
   "metadata": {},
   "source": [
    "##### **3.1、模型一**"
   ]
  },
  {
   "cell_type": "code",
   "execution_count": null,
   "metadata": {},
   "outputs": [],
   "source": [
    "train = orig_train.copy()\n",
    "test = orig_test.copy()\n",
    "train[\"weekday\"] = train.loan_dt.apply(lambda x: datetime.strptime(x, \"%Y-%m-%d\").weekday())\n",
    "test[\"weekday\"] = test.loan_dt.apply(lambda x: datetime.strptime(x, \"%Y-%m-%d\").weekday())\n",
    "data_train = train.drop([\"loan_dt\", \"tag\", \"id\"], axis=1)\n",
    "data_test_drop_label = test.drop([\"loan_dt\"], axis=1)\n",
    "data_train_drop_label = data_train.drop(\"label\", axis=1)\n",
    "data_test = data_test_drop_label.drop([\"id\"], axis=1)\n",
    "\n",
    "data_test_id = data_test_drop_label.id\n",
    "y = data_train.label\n",
    "# model_1------388\n",
    "params1 = {\"booster\": \"gbtree\",\n",
    "          \"objective\": \"binary:logistic\",\n",
    "          \"eval_metric\": \"auc\",\n",
    "          \"verbose\": 1,\n",
    "          \"eta\": 0.01,\n",
    "          \"max_delta_step\": 20,\n",
    "          \"max_depth\": 20,\n",
    "          \"alpha\": 10,\n",
    "          \"lambda\": 10,\n",
    "          \"gamma\": 2,\n",
    "          \"n_jobs\": -1}\n",
    "\n",
    "data_train_matrix = xgb.DMatrix(data_train_drop_label, y)\n",
    "data_test_matrix = xgb.DMatrix(data_test)\n",
    "model1 = xgb.train(params1, data_train_matrix, num_boost_round=3000)\n",
    "predict1 = model1.predict(data_test_matrix)"
   ]
  },
  {
   "cell_type": "markdown",
   "metadata": {},
   "source": [
    "##### **3.2、模型二**"
   ]
  },
  {
   "cell_type": "code",
   "execution_count": null,
   "metadata": {},
   "outputs": [],
   "source": [
    "# model_2------049\n",
    "data_train = train.drop([\"loan_dt\", \"tag\", \"id\"], axis=1)\n",
    "data_test_drop_label = test.drop([\"loan_dt\"], axis=1)\n",
    "data_train_drop_label = data_train.fillna(value=-99999).drop(\"label\", axis=1)\n",
    "data_test = data_test_drop_label.fillna(value=-99999).drop([\"id\"], axis=1)\n",
    "data_test_id = data_test_drop_label.id\n",
    "y = data_train.label\n",
    "params2 = {\"booster\": \"gbtree\",\n",
    "          \"objective\": \"binary:logistic\",\n",
    "          \"eval_metric\": \"auc\",\n",
    "          \"verbose\": 1,\n",
    "          \"eta\": 0.06,\n",
    "          \"max_delta_step\": 20,\n",
    "          \"max_depth\": 20,\n",
    "          \"alpha\": 10,\n",
    "          \"lambda\": 40,\n",
    "          \"n_jobs\": -1}\n",
    "data_train_matrix = xgb.DMatrix(data_train_drop_label, y)\n",
    "data_test_matrix = xgb.DMatrix(data_test)\n",
    "model2 = xgb.train(params2, data_train_matrix, num_boost_round=800)\n",
    "predict2 = model2.predict(data_test_matrix)\n"
   ]
  },
  {
   "cell_type": "markdown",
   "metadata": {},
   "source": [
    "##### **3.3、模型三**"
   ]
  },
  {
   "cell_type": "code",
   "execution_count": null,
   "metadata": {},
   "outputs": [],
   "source": [
    "# model_3------500\n",
    "data_train = train.drop([\"loan_dt\", \"tag\", \"id\"], axis=1)\n",
    "data_test_drop_label = test.drop([\"loan_dt\"], axis=1)\n",
    "data_train_drop_label = data_train.drop(\"label\", axis=1)\n",
    "data_test = data_test_drop_label.drop([\"id\"], axis=1)\n",
    "data_test_id = data_test_drop_label.id\n",
    "y = data_train.label\n",
    "params3 = {\"booster\": \"gbtree\",\n",
    "          \"objective\": \"binary:logistic\",\n",
    "          \"eval_metric\": \"auc\",\n",
    "          \"verbose\": 1,\n",
    "          \"eta\": 0.01,\n",
    "          \"max_delta_step\": 10,\n",
    "          \"max_depth\": 20,\n",
    "          \"alpha\": 10,\n",
    "          \"lambda\": 10,\n",
    "          \"n_jobs\": -1}\n",
    "data_train_matrix = xgb.DMatrix(data_train_drop_label, y)\n",
    "data_test_matrix = xgb.DMatrix(data_test)\n",
    "model3 = xgb.train(params3, data_train_matrix, num_boost_round=800)\n",
    "predict3 = model3.predict(data_test_matrix)\n"
   ]
  },
  {
   "cell_type": "markdown",
   "metadata": {},
   "source": [
    "##### **3.4、模型四**"
   ]
  },
  {
   "cell_type": "code",
   "execution_count": null,
   "metadata": {},
   "outputs": [],
   "source": [
    "# model4-----204\n",
    "data_train = train.drop([\"loan_dt\", \"tag\", \"id\"], axis=1)\n",
    "data_test_drop_label = test.drop([\"loan_dt\"], axis=1)\n",
    "data_train_drop_label = data_train.drop(\"label\", axis=1)\n",
    "data_test = data_test_drop_label.drop([\"id\"], axis=1)\n",
    "data_test_id = data_test_drop_label.id\n",
    "y = data_train.label\n",
    "params4 = {\"booster\": \"gbtree\",\n",
    "          \"objective\": \"binary:logistic\",\n",
    "          \"eval_metric\": \"auc\",\n",
    "          \"verbose\": 1,\n",
    "          \"eta\": 0.01,\n",
    "          \"max_delta_step\": 20,\n",
    "          \"max_depth\": 20,\n",
    "          \"alpha\": 10,\n",
    "          \"lambda\": 10,\n",
    "          \"gamma\": 2,\n",
    "          \"subsample\": 0.8,\n",
    "          \"colsample_bytlevel\": 0.8,\n",
    "          \"n_jobs\": -1}\n",
    "data_train_matrix = xgb.DMatrix(data_train_drop_label, y)\n",
    "data_test_matrix = xgb.DMatrix(data_test)\n",
    "model4 = xgb.train(params4, data_train_matrix, num_boost_round=3000)\n",
    "predict4 = model4.predict(data_test_matrix)\n"
   ]
  },
  {
   "cell_type": "markdown",
   "metadata": {},
   "source": [
    "##### **3.5、模型五**"
   ]
  },
  {
   "cell_type": "code",
   "execution_count": null,
   "metadata": {},
   "outputs": [],
   "source": [
    "# model_5-----418\n",
    "data_train = train.drop([\"loan_dt\", \"tag\", \"id\"], axis=1)\n",
    "data_test_drop_label = test.drop([\"loan_dt\"], axis=1)\n",
    "data_train_drop_label = data_train.fillna(value=-99999).drop(\"label\", axis=1)\n",
    "data_test = data_test_drop_label.fillna(value=-99999).drop([\"id\"], axis=1)\n",
    "data_test_id = data_test_drop_label.id\n",
    "y = data_train.label\n",
    "params5 = {\"booster\": \"gbtree\",\n",
    "          \"objective\": \"binary:logistic\",\n",
    "          \"eval_metric\": \"auc\",\n",
    "          \"verbose\": 1,\n",
    "          \"eta\": 0.01,\n",
    "          \"max_delta_step\": 20,\n",
    "          \"max_depth\": 20,\n",
    "          \"alpha\": 10,\n",
    "          \"lambda\": 10,\n",
    "          \"gamma\": 2,\n",
    "          \"subsample\": 0.8,\n",
    "          \"colsample_bytlevel\": 0.8,\n",
    "          \"min_child_weight\": 5,\n",
    "          \"n_jobs\": -1}\n",
    "data_train_matrix = xgb.DMatrix(data_train_drop_label, y)\n",
    "data_test_matrix = xgb.DMatrix(data_test)\n",
    "model5 = xgb.train(params5, data_train_matrix, num_boost_round=3000)\n",
    "predict5 = model5.predict(data_test_matrix)"
   ]
  },
  {
   "cell_type": "markdown",
   "metadata": {},
   "source": [
    "##### **3.6、模型融合**\n",
    "模型融合进行两两融合"
   ]
  },
  {
   "cell_type": "code",
   "execution_count": null,
   "metadata": {},
   "outputs": [],
   "source": [
    "prob1 = 0.5*(0.5*(0.5*predict1 + 0.5*predict2) + 0.5*predict3) + 0.5*predict4\n",
    "prob2 = 0.5*(0.5*(0.5*predict1 + 0.5*predict2) + 0.5*predict3) + 0.5*predict5\n",
    "prob = 0.5*prob1 + 0.5*prob2"
   ]
  },
  {
   "cell_type": "markdown",
   "metadata": {},
   "source": [
    "#### **4、预测结果输出**"
   ]
  },
  {
   "cell_type": "code",
   "execution_count": null,
   "metadata": {},
   "outputs": [],
   "source": [
    "result = pd.DataFrame({\"id\": data_valid_id, \"prob\": prob})\n",
    "result.to_csv(\"./output/\"+\"result_time\"+str(int(time.time()))+\".txt\", index=False)"
   ]
  },
  {
   "cell_type": "code",
   "execution_count": null,
   "metadata": {},
   "outputs": [],
   "source": []
  },
  {
   "cell_type": "code",
   "execution_count": null,
   "metadata": {},
   "outputs": [],
   "source": []
  },
  {
   "cell_type": "code",
   "execution_count": null,
   "metadata": {},
   "outputs": [],
   "source": []
  },
  {
   "cell_type": "code",
   "execution_count": null,
   "metadata": {},
   "outputs": [],
   "source": []
  }
 ],
 "metadata": {
  "kernelspec": {
   "display_name": "Python 3",
   "language": "python",
   "name": "python3"
  },
  "language_info": {
   "codemirror_mode": {
    "name": "ipython",
    "version": 3
   },
   "file_extension": ".py",
   "mimetype": "text/x-python",
   "name": "python",
   "nbconvert_exporter": "python",
   "pygments_lexer": "ipython3",
   "version": "3.6.5"
  }
 },
 "nbformat": 4,
 "nbformat_minor": 2
}
